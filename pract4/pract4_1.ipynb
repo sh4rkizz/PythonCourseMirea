{
 "cells": [
  {
   "cell_type": "markdown",
   "source": [
    "# Практическая 4. Часть 1\n",
    "## Работа с переменными класса\n",
    "### Класс, переменные которого необходимо получить, а также метод to_string как один из способов получения"
   ],
   "metadata": {
    "collapsed": false,
    "pycharm": {
     "name": "#%% md\n"
    }
   }
  },
  {
   "cell_type": "code",
   "execution_count": 1,
   "outputs": [],
   "source": [
    "class UserClass:\n",
    "    def __init__(self):\n",
    "        self.string = 'i`m just a useless string'\n",
    "        self.tup = ('Very', 'interesting', 'personalities')\n",
    "        self.number = 2468\n",
    "\n",
    "    def to_string(self):\n",
    "        return f'string = {self.string}\\n' \\\n",
    "               f'tup = {self.tup}\\n' \\\n",
    "               f'number = {self.number}'"
   ],
   "metadata": {
    "collapsed": false,
    "pycharm": {
     "name": "#%%\n"
    }
   }
  },
  {
   "cell_type": "markdown",
   "source": [
    "### Вызов метода to_string, а также использование встроенных функций вывода переменных"
   ],
   "metadata": {
    "collapsed": false,
    "pycharm": {
     "name": "#%% md\n"
    }
   }
  },
  {
   "cell_type": "code",
   "execution_count": 2,
   "outputs": [
    {
     "name": "stdout",
     "output_type": "stream",
     "text": [
      "{'string': 'i`m just a useless string', 'tup': ('Very', 'interesting', 'personalities'), 'number': 2468}\n",
      "{'string': 'i`m just a useless string', 'tup': ('Very', 'interesting', 'personalities'), 'number': 2468}\n",
      "string = i`m just a useless string\n",
      "tup = ('Very', 'interesting', 'personalities')\n",
      "number = 2468\n"
     ]
    }
   ],
   "source": [
    "if __name__ == '__main__':\n",
    "    print(vars(UserClass()))\n",
    "    print(UserClass().__dict__)\n",
    "    print(UserClass().to_string())"
   ],
   "metadata": {
    "collapsed": false,
    "pycharm": {
     "name": "#%%\n"
    }
   }
  },
  {
   "cell_type": "markdown",
   "source": [
    "## Работа с менеджером контекста\n",
    "### Класс HTML"
   ],
   "metadata": {
    "collapsed": false,
    "pycharm": {
     "name": "#%% md\n"
    }
   }
  },
  {
   "cell_type": "code",
   "execution_count": 3,
   "outputs": [],
   "source": [
    "from contextlib import contextmanager\n",
    "\n",
    "\n",
    "class HTML:\n",
    "    @contextmanager\n",
    "    def body(self):\n",
    "        print('<body>')\n",
    "        yield\n",
    "        print('</body>')\n",
    "\n",
    "    @contextmanager\n",
    "    def div(self):\n",
    "        print('<div>')\n",
    "        yield\n",
    "        print('</div>')\n",
    "\n",
    "    @staticmethod\n",
    "    def p(line):\n",
    "        print(f'<p>{line}</p>')"
   ],
   "metadata": {
    "collapsed": false,
    "pycharm": {
     "name": "#%%\n"
    }
   }
  },
  {
   "cell_type": "markdown",
   "source": [
    "### Вызов методов класса"
   ],
   "metadata": {
    "collapsed": false,
    "pycharm": {
     "name": "#%% md\n"
    }
   }
  },
  {
   "cell_type": "code",
   "execution_count": 4,
   "outputs": [
    {
     "name": "stdout",
     "output_type": "stream",
     "text": [
      "<body>\n",
      "<div>\n",
      "<div>\n",
      "<p>Первая строка.</p>\n",
      "<p>Вторая строка.</p>\n",
      "</div>\n",
      "<div>\n",
      "<p>Третья строка.</p>\n",
      "</div>\n",
      "</div>\n",
      "</body>\n"
     ]
    }
   ],
   "source": [
    "if __name__ == '__main__':\n",
    "    html = HTML()\n",
    "    with html.body():\n",
    "        with html.div():\n",
    "            with html.div():\n",
    "                html.p('Первая строка.')\n",
    "                html.p('Вторая строка.')\n",
    "            with html.div():\n",
    "                html.p('Третья строка.')"
   ],
   "metadata": {
    "collapsed": false,
    "pycharm": {
     "name": "#%%\n"
    }
   }
  },
  {
   "cell_type": "markdown",
   "source": [
    "## Работа с деревьями выражений\n",
    "### Класс числа"
   ],
   "metadata": {
    "collapsed": false,
    "pycharm": {
     "name": "#%% md\n"
    }
   }
  },
  {
   "cell_type": "code",
   "execution_count": 5,
   "metadata": {
    "collapsed": true
   },
   "outputs": [],
   "source": [
    "from numpy import sum as np_sum\n",
    "from numpy import prod as np_mlt\n",
    "\n",
    "\n",
    "class Num:\n",
    "    def __init__(self, n):\n",
    "        self.number = n\n",
    "        self.push_name = f'PUSH {n}'\n",
    "        self.str_result = str(n)"
   ]
  },
  {
   "cell_type": "markdown",
   "source": [
    "### Родительский класс для операторов\n",
    "#### Метод get_it_right используется в получении кода для стековой машины"
   ],
   "metadata": {
    "collapsed": false
   }
  },
  {
   "cell_type": "code",
   "execution_count": 6,
   "outputs": [],
   "source": [
    "class Operator:\n",
    "    sign = ''\n",
    "    operators = []\n",
    "    push_list = []\n",
    "\n",
    "    def __init__(self, *ops):\n",
    "        self.operands = tuple(x.number for x in ops)\n",
    "        self.name = self.__class__.__name__.upper()\n",
    "        for x in ops:\n",
    "            try:\n",
    "                self.operators.append(x.name)\n",
    "            except AttributeError:\n",
    "                self.push_list.append(x.push_name)\n",
    "        self.operators.insert(0, list(reversed(self.push_list)))\n",
    "        self.str_result = f'({f\" {self.sign} \".join(str(x.str_result) for x in ops)})'\n",
    "\n",
    "    def get_it_right(self):\n",
    "        self.operators.append(self.name)\n",
    "        return self.operators"
   ],
   "metadata": {
    "collapsed": false,
    "pycharm": {
     "name": "#%%\n"
    }
   }
  },
  {
   "cell_type": "markdown",
   "source": [
    "### Классы операторов Add, Mul, Sub, Div\n",
    "#### Для подсчета промежуточных результатов используется библиотека *numpy*"
   ],
   "metadata": {
    "collapsed": false
   }
  },
  {
   "cell_type": "code",
   "execution_count": 7,
   "outputs": [],
   "source": [
    "class Add(Operator):\n",
    "    sign = '+'\n",
    "\n",
    "    def __init__(self, *ops):\n",
    "        super().__init__(*ops)\n",
    "        self.number = np_sum(self.operands)\n",
    "\n",
    "\n",
    "class Sub(Operator):\n",
    "    sign = '-'\n",
    "\n",
    "    def __init__(self, *ops):\n",
    "        super().__init__(*ops)\n",
    "        self.number = self.operands[0] - np_sum(self.operands[1:])\n",
    "\n",
    "\n",
    "class Mul(Operator):\n",
    "    sign = '*'\n",
    "\n",
    "    def __init__(self, *ops):\n",
    "        super().__init__(*ops)\n",
    "        self.number = np_mlt(self.operands)\n",
    "\n",
    "\n",
    "class Div(Operator):\n",
    "    sign = '/'\n",
    "\n",
    "    def __init__(self, *ops):\n",
    "        super().__init__(*ops)\n",
    "        self.number = float('{0:.4f}'.format(self.operands[0] / np_mlt(self.operands[1:])))"
   ],
   "metadata": {
    "collapsed": false,
    "pycharm": {
     "name": "#%%\n"
    }
   }
  },
  {
   "cell_type": "markdown",
   "source": [
    "### Гостевые классы и их использование"
   ],
   "metadata": {
    "collapsed": false
   }
  },
  {
   "cell_type": "code",
   "execution_count": 8,
   "outputs": [
    {
     "name": "stdout",
     "output_type": "stream",
     "text": [
      "(((7 + (3 * 2)) - 5) / 4)\n",
      "2.0\n",
      "PUSH 4\n",
      "PUSH 5\n",
      "PUSH 7\n",
      "PUSH 2\n",
      "PUSH 3\n",
      "MUL\n",
      "ADD\n",
      "SUB\n",
      "DIV\n"
     ]
    }
   ],
   "source": [
    "class PrintVisitor:\n",
    "    @staticmethod\n",
    "    def visit(result):\n",
    "        return result.str_result\n",
    "\n",
    "\n",
    "class CalcVisitor:\n",
    "    @staticmethod\n",
    "    def visit(result):\n",
    "        return result.number\n",
    "\n",
    "\n",
    "class StackVisitor:\n",
    "    @staticmethod\n",
    "    def get_code(result):\n",
    "        res = result.get_it_right()\n",
    "        out = '\\n'.join(res[0])\n",
    "        for x in res:\n",
    "            try:\n",
    "                out += '\\n' + x\n",
    "            except TypeError:\n",
    "                pass\n",
    "        return out\n",
    "\n",
    "\n",
    "if __name__ == '__main__':\n",
    "    ans = Div(Sub(Add(Num(7), Mul(Num(3), Num(2))), Num(5)), Num(4))\n",
    "    print(PrintVisitor.visit(ans))\n",
    "    print(CalcVisitor.visit(ans))\n",
    "    print(StackVisitor.get_code(ans))"
   ],
   "metadata": {
    "collapsed": false,
    "pycharm": {
     "name": "#%%\n"
    }
   }
  },
  {
   "cell_type": "markdown",
   "source": [
    "## Изображение графа на основе физического моделирования\n",
    "### Классы и константы"
   ],
   "metadata": {
    "collapsed": false
   }
  },
  {
   "cell_type": "code",
   "execution_count": 9,
   "outputs": [],
   "source": [
    "from math import log, sqrt\n",
    "from numpy import subtract, array, sum as np_sum\n",
    "from numpy.linalg import norm\n",
    "from random import randint\n",
    "from tkinter import Tk, Canvas, Button\n",
    "\n",
    "CANVAS_W, CANVAS_H = 800, 600\n",
    "NODE_R = 15\n",
    "C1, C2, C3, C4 = 2, 50, 20000, 0.1\n",
    "\n",
    "\n",
    "class Vec:\n",
    "    def __init__(self, x, y):\n",
    "        self.x = x\n",
    "        self.y = y\n",
    "\n",
    "\n",
    "class Node:\n",
    "    def __init__(self, text):\n",
    "        self.vec_force_sum = [0, 0]\n",
    "        self.text = text\n",
    "        self.targets = []\n",
    "        self.vec = Vec(0, 0)\n",
    "\n",
    "    def to(self, *nodes):\n",
    "        for n in nodes:\n",
    "            self.targets.append(n)\n",
    "            n.targets.append(self)\n",
    "        return self\n",
    "\n",
    "\n",
    "class Graph:\n",
    "    def __init__(self):\n",
    "        self.nodes = []\n",
    "\n",
    "    def add(self, text):\n",
    "        self.nodes.append(Node(text))\n",
    "        return self.nodes[-1]\n",
    "\n",
    "\n",
    "class GUI:\n",
    "    def __init__(self, root):\n",
    "        self.root = root\n",
    "        self.canvas = Canvas(root, width=CANVAS_W, height=CANVAS_H, bg='ivory2')\n",
    "        self.draw_button_1 = Button(root, text='Draw', command=self.draw)\n",
    "        self.draw_button_2 = Button(root, text='Force redraw', command=self.force_redraw)\n",
    "        self.canvas.pack()\n",
    "        self.draw_button_1.pack()\n",
    "        self.draw_button_2.pack()\n",
    "        self.nodes = None\n",
    "        self.busy = None\n",
    "\n",
    "    def force_redraw(self):\n",
    "        try:\n",
    "            if self.busy:\n",
    "                self.root.after_cancel(self.busy)\n",
    "            for n in self.nodes:\n",
    "                n.vec.x += n.vec_force_sum[0] * C4\n",
    "                n.vec.y += n.vec_force_sum[1] * C4\n",
    "            self.animate()\n",
    "        except IndexError:\n",
    "            return None\n",
    "\n",
    "    def draw_node(self, x, y, text, r=NODE_R):\n",
    "        self.canvas.create_oval(x - r, y - r, x + r, y + r, fill='violet red')\n",
    "        self.canvas.create_text(x, y, text=text)\n",
    "\n",
    "    def draw_graph(self):\n",
    "        for n in self.nodes:\n",
    "            for t in n.targets:\n",
    "                self.canvas.create_line(n.vec.x, n.vec.y, t.vec.x, t.vec.y)\n",
    "        for n in self.nodes:\n",
    "            self.draw_node(n.vec.x, n.vec.y, n.text)\n",
    "\n",
    "    def draw(self):\n",
    "        if self.busy:\n",
    "            self.root.after_cancel(self.busy)\n",
    "        random_layout(self.nodes)\n",
    "        self.animate()\n",
    "\n",
    "    def animate(self):\n",
    "        self.canvas.delete('all')\n",
    "        force_layout(self.nodes)\n",
    "        self.draw_graph()\n",
    "        self.busy = self.root.after(50000, self.animate)"
   ],
   "metadata": {
    "collapsed": false,
    "pycharm": {
     "name": "#%%\n"
    }
   }
  },
  {
   "cell_type": "markdown",
   "source": [
    "### Методы нахождения сил и уточнения координат"
   ],
   "metadata": {
    "collapsed": false
   }
  },
  {
   "cell_type": "code",
   "execution_count": 10,
   "outputs": [],
   "source": [
    "def random_layout(nodes):\n",
    "    for n in nodes:\n",
    "        n.vec.x = randint(NODE_R * 4, CANVAS_W - NODE_R * 4 - 1)\n",
    "        n.vec.y = randint(NODE_R * 4, CANVAS_H - NODE_R * 4 - 1)\n",
    "\n",
    "\n",
    "def force_layout(nodes):\n",
    "    forces = {True: hooks_law, False: coulombs_law}\n",
    "    for n in nodes:\n",
    "        vec_force = array([forces[m in n.targets]([n.vec.x, n.vec.y], [m.vec.x, m.vec.y]) for m in nodes if n != m])\n",
    "        for i in range(2):\n",
    "            n.vec_force_sum[i] = float('{0:.4f}'.format(np_sum(vec_force[:, i])))\n",
    "\n",
    "\n",
    "def unit(x):\n",
    "    try:\n",
    "        sq = sqrt(x[0] ** 2 + x[1] ** 2)\n",
    "        if sq == 0:\n",
    "            raise ZeroDivisionError\n",
    "        return array([x[0] / sq, x[1] / sq])\n",
    "    except ZeroDivisionError:\n",
    "        return array([0, 0])\n",
    "\n",
    "\n",
    "def hooks_law(u, v):\n",
    "    try:\n",
    "        return [float('{0:.4f}'.format(a)) for a in\n",
    "                list(unit(subtract(v, u)) * C1 * log(norm(abs(subtract(u, v))) / C2))]\n",
    "    except ValueError:\n",
    "        return None\n",
    "\n",
    "\n",
    "def coulombs_law(u, v):\n",
    "    try:\n",
    "        return [float('{0:.4f}'.format(a)) for a in\n",
    "                list(unit(subtract(u, v)) * C3 / norm(abs(subtract(u, v))) ** 2)]\n",
    "    except ValueError:\n",
    "        return None"
   ],
   "metadata": {
    "collapsed": false,
    "pycharm": {
     "name": "#%%\n"
    }
   }
  },
  {
   "cell_type": "markdown",
   "source": [
    "### Запуск программы физического моделирования"
   ],
   "metadata": {
    "collapsed": false
   }
  },
  {
   "cell_type": "code",
   "execution_count": 11,
   "outputs": [],
   "source": [
    "if __name__ == '__main__':\n",
    "    graph = Graph()\n",
    "    node = [graph.add(f'{x}') for x in range(1, 8)]\n",
    "    node[0].to(*node[1:5])\n",
    "    node[1].to(node[4])\n",
    "    node[2].to(node[1], node[3])\n",
    "    node[5].to(node[0], node[3], node[6])\n",
    "    node[6].to(node[0], node[4])\n",
    "\n",
    "    roots = Tk()\n",
    "    w = GUI(roots)\n",
    "    w.nodes = graph.nodes\n",
    "    roots.mainloop()"
   ],
   "metadata": {
    "collapsed": false,
    "pycharm": {
     "name": "#%%\n"
    }
   }
  }
 ],
 "metadata": {
  "kernelspec": {
   "display_name": "Python 3",
   "language": "python",
   "name": "python3"
  },
  "language_info": {
   "codemirror_mode": {
    "name": "ipython",
    "version": 2
   },
   "file_extension": ".py",
   "mimetype": "text/x-python",
   "name": "python",
   "nbconvert_exporter": "python",
   "pygments_lexer": "ipython2",
   "version": "2.7.6"
  }
 },
 "nbformat": 4,
 "nbformat_minor": 0
}