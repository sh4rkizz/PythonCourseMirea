{
 "cells": [
  {
   "cell_type": "markdown",
   "metadata": {
    "pycharm": {
     "name": "#%% md\n"
    }
   },
   "source": [
    "## Shelling`s agent-based segregation model, using Manhattan metrics."
   ]
  },
  {
   "cell_type": "code",
   "execution_count": 1,
   "metadata": {
    "collapsed": true
   },
   "outputs": [
    {
     "data": {
      "text/plain": "<Figure size 360x360 with 1 Axes>",
      "image/png": "[encoded data removed]"
     },
     "metadata": {
      "needs_background": "light"
     },
     "output_type": "display_data"
    },
    {
     "data": {
      "text/plain": "<Figure size 360x360 with 1 Axes>",
      "image/png": "[encoded data removed]"
     },
     "metadata": {
      "needs_background": "light"
     },
     "output_type": "display_data"
    },
    {
     "name": "stdout",
     "output_type": "stream",
     "text": [
      "\n",
      "\tgrid size = 40x40\n",
      "\tpopulation = 1077\n",
      "\tfirst/second ratio = 1.0\n",
      "\ttolerance = 100%\n"
     ]
    },
    {
     "data": {
      "text/plain": "<Figure size 432x288 with 1 Axes>",
      "image/png": "[encoded data removed]"
     },
     "metadata": {
      "needs_background": "light"
     },
     "output_type": "display_data"
    }
   ],
   "source": [
    "from random import randint, choice\n",
    "import matplotlib.pyplot as plt\n",
    "\n",
    "\n",
    "def is_happy(empties, town, size, distance, percent, x_arr, maximum):\n",
    "    happy = 0\n",
    "    moved = []\n",
    "    for x in range(size):\n",
    "        for y in range(size):\n",
    "            if not (town[x][y] == 0 or (x, y) in moved):\n",
    "                nbs = 0\n",
    "                friendly_neighbours = 0\n",
    "                for x1 in range(-distance, distance + 1):\n",
    "                    for y1 in x_arr[:maximum - abs(x1) * 2]:\n",
    "                        try:\n",
    "                            if x + x1 < 0 \\\n",
    "                                    or y + y1 < 0 \\\n",
    "                                    or x1 == 0 and y1 == 0 \\\n",
    "                                    or town[x + x1][y + y1] == 0:\n",
    "                                raise IndexError\n",
    "                            elif town[x][y] == town[x + x1][y + y1]:\n",
    "                                friendly_neighbours += 1\n",
    "                            nbs += 1\n",
    "                        except IndexError:\n",
    "                            pass\n",
    "                try:\n",
    "                    if friendly_neighbours / nbs < percent:\n",
    "                        raise ZeroDivisionError\n",
    "                    else:\n",
    "                        happy += 1\n",
    "                except ZeroDivisionError:\n",
    "                    a1, b1 = choice(empties)\n",
    "                    empties.remove((a1, b1))\n",
    "                    empties.append((x, y))\n",
    "                    town[a1][b1], town[x][y] = town[x][y], town[a1][b1]\n",
    "                    moved.append((a1, b1))\n",
    "    return town, happy\n",
    "\n",
    "\n",
    "def segregation_model(iterations, town=None, size=40, distance=5, percent=0.7):\n",
    "    if town is None:\n",
    "        fig, axs = plt.subplots(1, figsize=(5, 5))\n",
    "        town = [[randint(0, 2) for _ in range(size)] for _ in range(size)]\n",
    "        axs.pcolormesh(town)\n",
    "        plt.show()\n",
    "\n",
    "    inhabitants = tuple(x for z in range(len(town)) for x in town[z])\n",
    "    first_group = inhabitants.count(1)\n",
    "    second_group = inhabitants.count(2)\n",
    "    population = first_group + second_group\n",
    "\n",
    "    happy = []\n",
    "    maximum = 2 * distance + 1\n",
    "    x_a = [str(i) for i in range(-distance, distance + 1)]\n",
    "    x_a.sort(key=lambda a: abs(int(a)))\n",
    "    x_arr = tuple(int(q) for q in x_a)\n",
    "\n",
    "    empties = [(i, j) for i in range(size)\n",
    "               for j in range(size) if not town[i][j]]\n",
    "\n",
    "    for _ in range(iterations):\n",
    "        town, to_ap = is_happy(empties, town, size, distance, percent, x_arr, maximum)\n",
    "        happy.append(to_ap / population)\n",
    "\n",
    "    fig, axs = plt.subplots(1, figsize=(5, 5))\n",
    "    axs.pcolormesh(town)\n",
    "    plt.show()\n",
    "    if 1.0 in happy:\n",
    "        happy = happy[:happy.index(1.0)]\n",
    "    return f'\\n\\tgrid size = {size}x{size}\\n' \\\n",
    "           f'\\tpopulation = {population}\\n' \\\n",
    "           f'\\tfirst/second ratio = {round(first_group / second_group, ndigits=2)}\\n' \\\n",
    "           f'\\ttolerance = {round(max(happy) * 100)}%', tuple(enumerate(happy))\n",
    "\n",
    "\n",
    "if __name__ == '__main__':\n",
    "    out, x_axis = segregation_model(400)\n",
    "    print(out)\n",
    "    plt.plot(tuple(x for x, _ in x_axis), tuple(x for _, x in x_axis))\n",
    "    plt.grid()\n",
    "    plt.show()"
   ]
  }
 ],
 "metadata": {
  "kernelspec": {
   "display_name": "Python 3",
   "language": "python",
   "name": "python3"
  },
  "language_info": {
   "codemirror_mode": {
    "name": "ipython",
    "version": 3
   },
   "file_extension": ".py",
   "mimetype": "text/x-python",
   "name": "python",
   "nbconvert_exporter": "python",
   "pygments_lexer": "ipython3",
   "version": "3.9.0"
  }
 },
 "nbformat": 4,
 "nbformat_minor": 1
}