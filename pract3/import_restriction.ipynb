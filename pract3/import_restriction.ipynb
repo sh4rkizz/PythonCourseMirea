{
 "cells": [
  {
   "cell_type": "markdown",
   "source": [
    "### Module to be imported"
   ],
   "metadata": {
    "collapsed": false,
    "pycharm": {
     "name": "#%% md\n"
    }
   }
  },
  {
   "cell_type": "code",
   "execution_count": 5,
   "metadata": {
    "collapsed": true,
    "pycharm": {
     "name": "#%%\n"
    }
   },
   "outputs": [],
   "source": [
    "__all__ = ['gcd', 'lcm', 'counting_sort']\n",
    "\n",
    "from math import sqrt\n",
    "from time import time\n",
    "\n",
    "\n",
    "def binary_search(num_to_find, array):\n",
    "    low = 0\n",
    "    high = len(array) - 1\n",
    "\n",
    "    while low <= high:\n",
    "        mid = int((low + high) / 2)\n",
    "        if num_to_find == array[mid]:\n",
    "            return mid\n",
    "        elif num_to_find < array[mid]:\n",
    "            high = mid - 1\n",
    "        else:\n",
    "            low = mid + 1\n",
    "\n",
    "\n",
    "def counting_sort(array_to_sort, reverse=False):\n",
    "    lst = [0] * (max(array_to_sort) + 1)\n",
    "\n",
    "    for i in array_to_sort:\n",
    "        lst[i] += 1\n",
    "\n",
    "    srt = []\n",
    "    for i in range(len(lst)):\n",
    "        srt.extend([i] * lst[i])\n",
    "\n",
    "    if reverse:\n",
    "        return reversed(srt)\n",
    "    return srt\n",
    "\n",
    "\n",
    "def time_measure(func):\n",
    "    def measure(*args, **kwargs):\n",
    "        start_time = time()\n",
    "        res = func(*args, **kwargs)\n",
    "        print(\"--- %s seconds ---\" % (time() - start_time))\n",
    "\n",
    "        return res\n",
    "\n",
    "    return measure\n",
    "\n",
    "\n",
    "def gcd(a, b):\n",
    "    \"\"\"The greatest common divisor possible\"\"\"\n",
    "    if a < b:\n",
    "        a, b = b, a\n",
    "    while b:\n",
    "        a %= b\n",
    "        a, b = b, a\n",
    "\n",
    "    return a\n",
    "\n",
    "\n",
    "def lcm(a, b):\n",
    "    \"\"\"Finds the lowest common multiple\"\"\"\n",
    "    if a < b:\n",
    "        a, b = b, a\n",
    "\n",
    "    return int(a / gcd(a, b) * b)\n",
    "\n",
    "\n",
    "def is_prime(ch):\n",
    "    if ch % 2 == 0:\n",
    "        return False\n",
    "    else:\n",
    "        sq = int(sqrt(ch))\n",
    "        for q in range(3, sq, 2):\n",
    "            if ch % q == 0:\n",
    "                return False\n",
    "        return True"
   ]
  },
  {
   "cell_type": "markdown",
   "source": [
    "### Let`s try to import with asterisk\n",
    "Just for clarity I`ll use a local module_to_import."
   ],
   "metadata": {
    "collapsed": false
   }
  },
  {
   "cell_type": "code",
   "execution_count": 6,
   "outputs": [
    {
     "name": "stdout",
     "output_type": "stream",
     "text": [
      "This function was not imported by asterisk\n",
      "\n",
      "The greatest common divisor possible for a = 25215, b = 15657 is 3\n",
      "Sorted array: [2, 3, 4, 5, 6, 7, 8, 9, 10, 11, 12, 13, 14, 15]\n"
     ]
    }
   ],
   "source": [
    "from import_restriction.module_to_import import *\n",
    "\n",
    "try:\n",
    "    print(binary_serach(2512, [1, 2, 3, 4, 5, 6, 7, 2511, 2512]))\n",
    "except NameError:\n",
    "    print('This function was not imported by asterisk\\n')\n",
    "    try:\n",
    "        print(f'{gcd.__doc__} for a = 25215, b = 15657 is {gcd(25215, 15657)}')\n",
    "        print(f'Sorted array: {counting_sort(range(15, 1, -1))}')\n",
    "    except NameError:\n",
    "        'We won`t get here'"
   ],
   "metadata": {
    "collapsed": false,
    "pycharm": {
     "name": "#%%\n"
    }
   }
  }
 ],
 "metadata": {
  "kernelspec": {
   "display_name": "Python 3",
   "language": "python",
   "name": "python3"
  },
  "language_info": {
   "codemirror_mode": {
    "name": "ipython",
    "version": 2
   },
   "file_extension": ".py",
   "mimetype": "text/x-python",
   "name": "python",
   "nbconvert_exporter": "python",
   "pygments_lexer": "ipython2",
   "version": "2.7.6"
  }
 },
 "nbformat": 4,
 "nbformat_minor": 0
}