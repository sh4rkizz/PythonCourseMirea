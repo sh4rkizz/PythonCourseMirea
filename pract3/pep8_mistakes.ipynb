{
 "cells": [
  {
   "cell_type": "code",
   "execution_count": 1,
   "outputs": [
    {
     "name": "stdout",
     "output_type": "stream",
     "text": [
      "7 9\n",
      "1\n"
     ]
    }
   ],
   "source": [
    "def main(c):\n",
    "    x=7; print(x,9)\n",
    "    if c == None:\n",
    "        return 0\n",
    "    if c == True: return 1\n",
    "\n",
    "print (main(c =True))"
   ],
   "metadata": {
    "collapsed": false,
    "pycharm": {
     "name": "#%% code\n"
    }
   }
  },
  {
   "cell_type": "markdown",
   "source": [
    "### This code contains the following PEP8 mistakes: ###\n",
    "* Whitespace before '(';\n",
    "* Missing whitespace around operator;\n",
    "* Missing whitespace after ',';\n",
    "* Unexpected spaces around keyword / parameter equals;\n",
    "* Expected 2 blank lines, found 1;\n",
    "* Multiple statements on one line (colon);\n",
    "* Multiple statements on one line (semicolon);\n",
    "* Comparison to None should be 'if cond is None:';\n",
    "* Comparison to True should be 'if cond is True:' or 'if cond:'\n"
   ],
   "metadata": {
    "collapsed": false
   }
  }
 ],
 "metadata": {
  "kernelspec": {
   "display_name": "Python 3",
   "language": "python",
   "name": "python3"
  },
  "language_info": {
   "codemirror_mode": {
    "name": "ipython",
    "version": 2
   },
   "file_extension": ".py",
   "mimetype": "text/x-python",
   "name": "python",
   "nbconvert_exporter": "python",
   "pygments_lexer": "ipython2",
   "version": "2.7.6"
  }
 },
 "nbformat": 4,
 "nbformat_minor": 0
}